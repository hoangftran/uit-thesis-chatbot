{
 "cells": [
  {
   "cell_type": "code",
   "execution_count": 3,
   "metadata": {},
   "outputs": [],
   "source": [
    "from constant import RASA_NLU_MODEL_PATH\n",
    "from rasa.nlu.model import Interpreter\n",
    "\n",
    "import requests\n",
    "import re\n",
    "import pytz\n",
    "import datetime as dt\n",
    "import string\n",
    "import json\n",
    "\n",
    "import pandas as pd\n",
    "import numpy as np"
   ]
  },
  {
   "cell_type": "code",
   "execution_count": 15,
   "metadata": {},
   "outputs": [],
   "source": [
    "REGEX_DATE = r\"(3[01]|[12][0-9]|0?[1-9])[-\\/:|](1[0-2]|0?[1-9])([-\\/:|](2[0-1][0-9][0-9]))\"\n",
    "REGEX_DAY_MONTH = r\"(3[01]|[12][0-9]|0?[1-9])[-\\/:|](1[0-2]|0?[1-9])\"\n",
    "REGEX_MONTH_YEAR = r\"(1[0-2]|0?[1-9])([-\\/:|](2[0-1][0-9][0-9]))\"\n",
    "\n",
    "def parse_datetime(msg, timezone=\"Asia/Ho_Chi_Minh\"):\n",
    "    try:  \n",
    "        tz = pytz.timezone(timezone)\n",
    "        now = dt.datetime.now(tz=tz)\n",
    "\n",
    "        date_str = []\n",
    "        regex = REGEX_DATE\n",
    "        regex_day_month = REGEX_DAY_MONTH\n",
    "        regex_month_year = REGEX_MONTH_YEAR\n",
    "        pattern = re.compile(\"(%s|%s|%s)\" % (\n",
    "            regex, regex_month_year, regex_day_month), re.UNICODE)\n",
    "\n",
    "        matches = pattern.finditer(msg)\n",
    "        for match in matches:\n",
    "            _dt = match.group(0)\n",
    "            _dt = _dt.replace(\"/\", \"-\").replace(\"|\", \"-\").replace(\":\", \"-\").replace(\"tháng\", \"-\").replace(\"thang\", \"-\")\n",
    "            for i in range(len(_dt.split(\"-\"))):\n",
    "                if len(_dt.split(\"-\")[i]) == 1:\n",
    "                    _dt = _dt.replace(_dt.split(\"-\")[i], \"0\"+_dt.split(\"-\")[i])\n",
    "            if len(_dt.split(\"-\")) == 2:\n",
    "                pos1 = _dt.split(\"-\")[0]\n",
    "                pos2 = _dt.split(\"-\")[1]\n",
    "                if 0 < int(pos1) < 32 and 0 < int(pos2) < 13:\n",
    "                    _dt = pos1+\"-\"+pos2+\"-\"+str(now.year)\n",
    "            date_str.append(_dt)\n",
    "\n",
    "        if(len(date_str) != 1):\n",
    "            msg = msg.replace(\"/\", \"-\").replace(\"|\", \"-\").replace(\":\", \"-\").replace(\"tháng\", \"-\").replace(\"thang\", \"-\").replace(\"sáng\", \"9:00\").replace(\"sang\", \"9:00\").replace(\"chiều\", \"15:00\").replace(\"chieu\", \"15:00\")\n",
    "            interpreter = Interpreter.load(RASA_NLU_MODEL_PATH)\n",
    "            parsed = interpreter.parse(msg)\n",
    "            duckling_entity = [i for i in parsed['entities'] if i['extractor'] == 'DucklingEntityExtractor']\n",
    "            \n",
    "            if len(duckling_entity) == 1:\n",
    "                if type(duckling_entity[0]['value']) == str:\n",
    "                    datetime_parsed = dt.datetime.strptime(duckling_entity[0]['value'][:-6],'%Y-%m-%dT%H:%M:%S.%f')\n",
    "                else:\n",
    "                    datetime_parsed = -1\n",
    "            else:\n",
    "                datetime_parsed = -1\n",
    "        else:\n",
    "            datetime_parsed = dt.datetime.strptime(date_str[0],'%d-%m-%Y')\n",
    "    except Exception as e:\n",
    "        datetime_parsed = -1\n",
    "        print(e)\n",
    "    finally:\n",
    "        return datetime_parsed\n",
    "\n",
    "def get_day_of_week(msg):\n",
    "    datetime_parsed = parse_datetime(msg)\n",
    "    if datetime_parsed == -1:        \n",
    "        day_of_week = -1\n",
    "    else:\n",
    "        day_of_week = datetime_parsed.weekday()\n",
    "    return day_of_week"
   ]
  },
  {
   "cell_type": "code",
   "execution_count": 16,
   "metadata": {},
   "outputs": [
    {
     "name": "stdout",
     "output_type": "stream",
     "text": [
      "unconverted data remains: 1\n"
     ]
    },
    {
     "data": {
      "text/plain": [
       "-1"
      ]
     },
     "execution_count": 16,
     "metadata": {},
     "output_type": "execute_result"
    }
   ],
   "source": [
    "msg = '26/1/2021'\n",
    "parse_datetime(msg)"
   ]
  },
  {
   "cell_type": "code",
   "execution_count": 18,
   "metadata": {},
   "outputs": [],
   "source": [
    "tz = pytz.timezone(\"Asia/Ho_Chi_Minh\")\n",
    "now = dt.datetime.now(tz=tz)\n",
    "\n",
    "date_str = []\n",
    "regex = REGEX_DATE\n",
    "regex_day_month = REGEX_DAY_MONTH\n",
    "regex_month_year = REGEX_MONTH_YEAR\n",
    "pattern = re.compile(\"(%s|%s|%s)\" % (\n",
    "    regex, regex_month_year, regex_day_month), re.UNICODE)\n",
    "\n",
    "matches = pattern.finditer(msg)\n",
    "for match in matches:\n",
    "    _dt = match.group(0)\n",
    "    _dt = _dt.replace(\"/\", \"-\").replace(\"|\", \"-\").replace(\":\", \"-\").replace(\"tháng\", \"-\").replace(\"thang\", \"-\")\n",
    "    for i in range(len(_dt.split(\"-\"))):\n",
    "        if len(_dt.split(\"-\")[i]) == 1:\n",
    "            _dt = _dt.replace(_dt.split(\"-\")[i], \"0\"+_dt.split(\"-\")[i])\n",
    "    if len(_dt.split(\"-\")) == 2:\n",
    "        pos1 = _dt.split(\"-\")[0]\n",
    "        pos2 = _dt.split(\"-\")[1]\n",
    "        if 0 < int(pos1) < 32 and 0 < int(pos2) < 13:\n",
    "            _dt = pos1+\"-\"+pos2+\"-\"+str(now.year)\n",
    "    date_str.append(_dt)"
   ]
  },
  {
   "cell_type": "code",
   "execution_count": 19,
   "metadata": {},
   "outputs": [
    {
     "data": {
      "text/plain": [
       "['26-01-20201']"
      ]
     },
     "execution_count": 19,
     "metadata": {},
     "output_type": "execute_result"
    }
   ],
   "source": [
    "date_str"
   ]
  },
  {
   "cell_type": "code",
   "execution_count": 20,
   "metadata": {},
   "outputs": [],
   "source": [
    "def get_mssv_entity(sample):\n",
    "    interpreter = Interpreter.load(RASA_NLU_MODEL_PATH)\n",
    "    parsed = interpreter.parse(sample)\n",
    "\n",
    "    regex_entity = [i for i in parsed['entities'] if i['extractor'] == 'DIETClassifier']\n",
    "    if len(regex_entity) == 1:\n",
    "        if regex_entity[0]['entity'] == 'mssv':\n",
    "            mssv = regex_entity[0]['value']\n",
    "    else:\n",
    "        mssv = -1\n",
    "    \n",
    "    return mssv"
   ]
  },
  {
   "cell_type": "code",
   "execution_count": 24,
   "metadata": {},
   "outputs": [
    {
     "name": "stdout",
     "output_type": "stream",
     "text": [
      "WARNING:tensorflow:6 out of the last 11 calls to <bound method DIET.batch_predict of <rasa.nlu.classifiers.diet_classifier.DIET object at 0x7f2f61d42110>> triggered tf.function retracing. Tracing is expensive and the excessive number of tracings could be due to (1) creating @tf.function repeatedly in a loop, (2) passing tensors with different shapes, (3) passing Python objects instead of tensors. For (1), please define your @tf.function outside of the loop. For (2), @tf.function has experimental_relax_shapes=True option that relaxes argument shapes that can avoid unnecessary retracing. For (3), please refer to https://www.tensorflow.org/tutorials/customization/performance#python_or_tensor_args and https://www.tensorflow.org/api_docs/python/tf/function for  more details.\n"
     ]
    },
    {
     "data": {
      "text/plain": [
       "-1"
      ]
     },
     "execution_count": 24,
     "metadata": {},
     "output_type": "execute_result"
    }
   ],
   "source": [
    "get_mssv_entity('akjfgjasdfj')"
   ]
  },
  {
   "cell_type": "code",
   "execution_count": 32,
   "metadata": {},
   "outputs": [],
   "source": [
    "def mssv_validation(mssv):\n",
    "\n",
    "    final_result = dict()\n",
    "    validation_bool = 1\n",
    "\n",
    "    if mssv == '' or mssv == None or mssv == -1:\n",
    "        validation_bool = 0\n",
    "        mssv = -1\n",
    "    else:\n",
    "        mssv = (mssv.translate(str.maketrans('', '', string.punctuation))).replace(' ', '')\n",
    "        mssv_regex = re.compile('([0-9]{2})+(52)+([0-9]{4})')\n",
    "        \n",
    "        if(len(mssv) != 8):\n",
    "            validation_bool = 0\n",
    "            mssv = -1\n",
    "            \n",
    "        if (not mssv_regex.match(mssv)):\n",
    "            validation_bool = 0\n",
    "            mssv = -1\n",
    "        \n",
    "    final_result['mssv'] = mssv\n",
    "    final_result['validation_bool'] = validation_bool\n",
    "    \n",
    "    return final_result"
   ]
  },
  {
   "cell_type": "code",
   "execution_count": 34,
   "metadata": {},
   "outputs": [
    {
     "name": "stdout",
     "output_type": "stream",
     "text": [
      "WARNING:tensorflow:6 out of the last 11 calls to <bound method DIET.batch_predict of <rasa.nlu.classifiers.diet_classifier.DIET object at 0x7f2fa058b990>> triggered tf.function retracing. Tracing is expensive and the excessive number of tracings could be due to (1) creating @tf.function repeatedly in a loop, (2) passing tensors with different shapes, (3) passing Python objects instead of tensors. For (1), please define your @tf.function outside of the loop. For (2), @tf.function has experimental_relax_shapes=True option that relaxes argument shapes that can avoid unnecessary retracing. For (3), please refer to https://www.tensorflow.org/tutorials/customization/performance#python_or_tensor_args and https://www.tensorflow.org/api_docs/python/tf/function for  more details.\n",
      "-1\n",
      "{'mssv': -1, 'validation_bool': 0}\n"
     ]
    }
   ],
   "source": [
    "mssv = 'skjdfgjsdgf'\n",
    "mssv = get_mssv_entity(mssv)\n",
    "valid_result = mssv_validation(mssv)\n",
    "print(mssv)\n",
    "print(valid_result)"
   ]
  },
  {
   "cell_type": "code",
   "execution_count": null,
   "metadata": {},
   "outputs": [],
   "source": []
  }
 ],
 "metadata": {
  "kernelspec": {
   "display_name": "chatbot_env",
   "language": "python",
   "name": "chatbot_env"
  },
  "language_info": {
   "codemirror_mode": {
    "name": "ipython",
    "version": 3
   },
   "file_extension": ".py",
   "mimetype": "text/x-python",
   "name": "python",
   "nbconvert_exporter": "python",
   "pygments_lexer": "ipython3",
   "version": "3.7.6"
  },
  "toc": {
   "base_numbering": 1,
   "nav_menu": {},
   "number_sections": true,
   "sideBar": true,
   "skip_h1_title": false,
   "title_cell": "Table of Contents",
   "title_sidebar": "Contents",
   "toc_cell": false,
   "toc_position": {},
   "toc_section_display": true,
   "toc_window_display": false
  }
 },
 "nbformat": 4,
 "nbformat_minor": 4
}
